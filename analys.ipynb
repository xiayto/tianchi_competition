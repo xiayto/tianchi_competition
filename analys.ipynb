{
 "cells": [
  {
   "cell_type": "code",
   "execution_count": 2,
   "metadata": {
    "collapsed": true
   },
   "outputs": [],
   "source": [
    "import pandas as pd\n",
    "import numpy as np\n",
    "import warnings\n",
    "warnings.filterwarnings('ignore')"
   ]
  },
  {
   "cell_type": "code",
   "execution_count": 48,
   "metadata": {},
   "outputs": [],
   "source": [
    "# 读取数据\n",
    "tmp = pd.read_csv('./left_feature.csv')"
   ]
  },
  {
   "cell_type": "code",
   "execution_count": 50,
   "metadata": {},
   "outputs": [],
   "source": [
    "tmp.set_indexdex('vid', inplace=True)"
   ]
  },
  {
   "cell_type": "code",
   "execution_count": 53,
   "metadata": {},
   "outputs": [],
   "source": [
    "tmp.drop(['Unnamed: 0'], axis=1, inplace=True)"
   ]
  },
  {
   "cell_type": "code",
   "execution_count": 55,
   "metadata": {},
   "outputs": [],
   "source": [
    "# 读取train和并与tmp合并\n",
    "train_df=pd.read_csv('./input/meinian_round1_train_20180408.csv',sep=',',encoding='gbk')\n",
    "\n",
    "# 对train集的label进行清洗\n",
    "def clean_label(x):\n",
    "    x=str(x)\n",
    "    if '+' in x:#16.04++\n",
    "        i=x.index('+')\n",
    "        x=x[0:i]\n",
    "    if '>' in x:#> 11.00\n",
    "        i=x.index('>')\n",
    "        x=x[i+1:]\n",
    "    if len(x.split(sep='.'))>2:#2.2.8\n",
    "        i=x.rindex('.')\n",
    "        x=x[0:i]+x[i+1:]\n",
    "    if '未做' in x or '未查' in x or '弃查' in x or '不查' in x or '弃检' in x:\n",
    "        x=np.nan\n",
    "    if str(x).isdigit()==False and len(str(x))>4:\n",
    "        x=x[0:4]\n",
    "    return x\n",
    "\n",
    "def clean_label(x):\n",
    "    x=str(x)\n",
    "    if '+' in x:#16.04++\n",
    "        i=x.index('+')\n",
    "        x=x[0:i]\n",
    "    if '>' in x:#> 11.00\n",
    "        i=x.index('>')\n",
    "        x=x[i+1:]\n",
    "    if len(x.split(sep='.'))>2:#2.2.8\n",
    "        i=x.rindex('.')\n",
    "        x=x[0:i]+x[i+1:]\n",
    "    if '未做' in x or '未查' in x or '弃查' in x or '不查' in x or '弃检' in x:\n",
    "        x=np.nan\n",
    "    if str(x).isdigit()==False and len(str(x))>4:\n",
    "        x=x[0:4]\n",
    "    return x\n",
    "    \n",
    "def data_clean(df):\n",
    "    label_list = ['收缩压','舒张压','血清甘油三酯','血清高密度脂蛋白','血清低密度脂蛋白']\n",
    "    for c in label_list:\n",
    "        df[c] = df[c].apply(clean_label)\n",
    "        df[c] = df[c].astype('float64')\n",
    "    df.dropna(axis=0, inplace=True, how='any')\n",
    "\n",
    "    return df\n",
    "\n",
    "train_df = data_clean(train_df)\n",
    "# 设置相同的index方便合并\n",
    "train_df.set_index('vid',inplace=True)\n",
    "anlyse_train = pd.concat([tmp, train_df], axis=1, join='inner')"
   ]
  },
  {
   "cell_type": "markdown",
   "metadata": {},
   "source": [
    "# 布尔型相关的函数"
   ]
  },
  {
   "cell_type": "code",
   "execution_count": 57,
   "metadata": {},
   "outputs": [],
   "source": [
    "# 纯文本枚举型，先分析均值，再根据关键词提特征\n",
    "\n",
    "# 分析关键词均值的函数\n",
    "def analy2(df, col, in_str):\n",
    "    label_list = ['收缩压', '舒张压', '血清甘油三酯', '血清高密度脂蛋白', '血清低密度脂蛋白']\n",
    "    \n",
    "    def has_str(in_str):\n",
    "        def has_str_apply(x):\n",
    "            x = str(x)\n",
    "            if in_str in x:\n",
    "                return in_str\n",
    "            else:\n",
    "                return 0\n",
    "        return has_str_apply\n",
    "    \n",
    "    df_tmp = df[[col] + label_list]\n",
    "    df_tmp[col] = df_tmp[col].apply(has_str(in_str))\n",
    "    df_tmp = df_tmp.groupby(df_tmp[col])\n",
    "    cnt = df_tmp.count().values[:,1]\n",
    "    df_output = df_tmp.mean()\n",
    "    df_output['counts'] = cnt\n",
    "    print(df_output)\n",
    "    return df_output\n",
    "\n",
    "def label_apply(label_list):\n",
    "    def label_list_apply(x):\n",
    "        x = str(x)\n",
    "        for l in label_list:\n",
    "            if (l in x):\n",
    "                return 1\n",
    "        return 0\n",
    "    return label_list_apply\n",
    "\n",
    "# 提取特征放在后面的函数：\n",
    "def add_feature(df1, df2, col, label_list, new_feature_name):\n",
    "    tmp_ = df2[col].apply(label_apply(label_list)).values\n",
    "    df1[new_feature_name] = tmp_\n",
    "    return df1\n",
    "\n",
    "def analys(df, col):\n",
    "    label_list = ['收缩压', '舒张压', '血清甘油三酯', '血清高密度脂蛋白', '血清低密度脂蛋白']\n",
    "    df_tmp = df[[col] + label_list]\n",
    "    df_tmp = df_tmp.groupby(df_tmp[col])\n",
    "    cnt = df_tmp.count().values[:,1]\n",
    "    df_output = df_tmp.mean()\n",
    "    df_output['counts'] = cnt\n",
    "    print(df_output)\n",
    "    return df_output"
   ]
  },
  {
   "cell_type": "markdown",
   "metadata": {},
   "source": [
    "# 枚举型相关的函数"
   ]
  },
  {
   "cell_type": "code",
   "execution_count": 58,
   "metadata": {
    "collapsed": true
   },
   "outputs": [],
   "source": [
    "def oh_apply(label_list):\n",
    "    def label_list_apply(x):\n",
    "        x = str(x)\n",
    "        for i in range(1, len(label_list)+1):\n",
    "            tmp_l = label_list[i-1]\n",
    "            for l in tmp_l:\n",
    "                if (l in x):\n",
    "                    return i\n",
    "        return 0\n",
    "    return label_list_apply\n",
    "\n",
    "# 提取特征放在后面的函数：\n",
    "def add_oh_feature(df1, df2, col, label_list, new_feature_name):\n",
    "    tmp_ = df2[col].apply(oh_apply(label_list)).values\n",
    "    df1[new_feature_name] = tmp_\n",
    "    return df1"
   ]
  },
  {
   "cell_type": "markdown",
   "metadata": {},
   "source": [
    "# 分析方法："
   ]
  },
  {
   "cell_type": "code",
   "execution_count": 75,
   "metadata": {},
   "outputs": [
    {
     "name": "stdout",
     "output_type": "stream",
     "text": [
      "          收缩压        舒张压  血清甘油三酯  血清高密度脂蛋白  血清低密度脂蛋白  counts\n",
      "069018                                                      \n",
      "0.0     134.0  77.000000    0.63  1.630000  4.230000       1\n",
      "+       128.0  79.000000    5.75  1.110000  2.420000       1\n",
      "-       114.0  73.166667    1.40  1.258333  2.636667       6\n",
      "0       130.0  78.000000    1.05  1.560000  4.290000       1\n"
     ]
    }
   ],
   "source": [
    "# 观察 这一列中有多少不同的特征，看它们的均值，最后是数量\n",
    "a = analys(anlyse_train, tmp.columns[121])\n",
    "a.to_csv('test.csv')"
   ]
  },
  {
   "cell_type": "code",
   "execution_count": 76,
   "metadata": {},
   "outputs": [
    {
     "name": "stdout",
     "output_type": "stream",
     "text": [
      "               收缩压        舒张压    血清甘油三酯  血清高密度脂蛋白  血清低密度脂蛋白  counts\n",
      "069018                                                             \n",
      "0       126.049567  79.642246  1.616537  1.406715  2.769669   38191\n",
      "+       128.000000  79.000000  5.750000  1.110000  2.420000       1\n"
     ]
    }
   ],
   "source": [
    "# 如果种类太多，用关键词分析, 看存在这个关键词和不纯在这个关键的均值对比\n",
    "tmp = analy2(anlyse_train, tmp.columns[121], '+')"
   ]
  },
  {
   "cell_type": "code",
   "execution_count": null,
   "metadata": {
    "collapsed": true
   },
   "outputs": [],
   "source": []
  }
 ],
 "metadata": {
  "kernelspec": {
   "display_name": "Python 3",
   "language": "python",
   "name": "python3"
  },
  "language_info": {
   "codemirror_mode": {
    "name": "ipython",
    "version": 3
   },
   "file_extension": ".py",
   "mimetype": "text/x-python",
   "name": "python",
   "nbconvert_exporter": "python",
   "pygments_lexer": "ipython3",
   "version": "3.6.2"
  }
 },
 "nbformat": 4,
 "nbformat_minor": 2
}
